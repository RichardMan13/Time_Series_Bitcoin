{
 "cells": [
  {
   "cell_type": "code",
   "execution_count": null,
   "metadata": {},
   "outputs": [],
   "source": [
    "import requests        # for making http requests to binance\n",
    "import json            # for parsing what binance sends back to us\n",
    "import pandas as pd    # for storing and manipulating the data we get back\n",
    "import numpy as np     # numerical python, i usually need this somewhere \n",
    "                       # and so i import by habit nowadays\n",
    "\n",
    "import matplotlib.pyplot as plt # for charts and such\n",
    "import matplotlib.ticker as ticker\n",
    "import statsmodels.api as sm\n",
    "\n",
    "import seaborn as sns\n",
    "\n",
    "import datetime as dt  # for dealing with times\n",
    "%matplotlib inline "
   ]
  },
  {
   "cell_type": "code",
   "execution_count": null,
   "metadata": {},
   "outputs": [],
   "source": [
    "# AR example\n",
    "from statsmodels.tsa.ar_model import AR\n",
    "from random import random\n",
    "# contrived dataset\n",
    "data = [x + random() for x in range(1, 100)]\n",
    "# fit model\n",
    "model = AR(data)\n",
    "model_fit = model.fit()\n",
    "# make prediction\n",
    "yhat = model_fit.predict(len(data), len(data))\n",
    "print(yhat)\n",
    "plt.plot(data)"
   ]
  },
  {
   "cell_type": "code",
   "execution_count": null,
   "metadata": {
    "scrolled": true
   },
   "outputs": [],
   "source": [
    "# MA example\n",
    "from statsmodels.tsa.arima_model import ARMA\n",
    "from random import random\n",
    "# contrived dataset\n",
    "data = [x + random() for x in range(1, 100)]\n",
    "# fit model\n",
    "model = ARMA(data, order=(0, 1))\n",
    "model_fit = model.fit(disp=False)\n",
    "# make prediction\n",
    "yhat = model_fit.predict(len(data), len(data))\n",
    "print(yhat)\n",
    "plt.plot(data)"
   ]
  },
  {
   "cell_type": "code",
   "execution_count": null,
   "metadata": {},
   "outputs": [],
   "source": [
    "# ARMA example\n",
    "from statsmodels.tsa.arima_model import ARMA\n",
    "from random import random\n",
    "# contrived dataset\n",
    "data = [random() for x in range(1, 100)]\n",
    "# fit model\n",
    "model = ARMA(data, order=(2, 1))\n",
    "model_fit = model.fit(disp=False)\n",
    "# make prediction\n",
    "yhat = model_fit.predict(len(data), len(data))\n",
    "print(yhat)\n",
    "plt.plot(data)\n",
    "plt.plot(yhat, color='g')"
   ]
  },
  {
   "cell_type": "code",
   "execution_count": null,
   "metadata": {},
   "outputs": [],
   "source": [
    "# ARIMA example\n",
    "from statsmodels.tsa.arima_model import ARIMA\n",
    "from random import random\n",
    "# contrived dataset\n",
    "data = [x + random() for x in range(1, 100)]\n",
    "# fit model\n",
    "model = ARIMA(data, order=(1, 1, 1))\n",
    "model_fit = model.fit(disp=False)\n",
    "# make prediction\n",
    "yhat = model_fit.predict(len(data), len(data), typ='levels')\n",
    "print(yhat)\n",
    "plt.plot(data)"
   ]
  },
  {
   "cell_type": "code",
   "execution_count": null,
   "metadata": {},
   "outputs": [],
   "source": [
    "# SARIMA example\n",
    "from statsmodels.tsa.statespace.sarimax import SARIMAX\n",
    "from random import random\n",
    "# contrived dataset\n",
    "data = [x + random() for x in range(1, 100)]\n",
    "# fit model\n",
    "model = SARIMAX(data, order=(1, 1, 1), seasonal_order=(1, 1, 1, 1))\n",
    "model_fit = model.fit(disp=False)\n",
    "# make prediction\n",
    "yhat = model_fit.predict(len(data), len(data))\n",
    "print(yhat)\n",
    "plt.plot(data)"
   ]
  },
  {
   "cell_type": "code",
   "execution_count": null,
   "metadata": {},
   "outputs": [],
   "source": [
    "# SARIMAX example\n",
    "from statsmodels.tsa.statespace.sarimax import SARIMAX\n",
    "from random import random\n",
    "# contrived dataset\n",
    "data1 = [x + random() for x in range(1, 100)]\n",
    "data2 = [x + random() for x in range(101, 200)]\n",
    "# fit model\n",
    "model = SARIMAX(data1, exog=data2, order=(1, 1, 1), seasonal_order=(0, 0, 0, 0))\n",
    "model_fit = model.fit(disp=False)\n",
    "# make prediction\n",
    "exog2 = [200 + random()]\n",
    "yhat = model_fit.predict(len(data1), len(data1), exog=[exog2])\n",
    "print(yhat)\n",
    "plt.plot(data1)\n",
    "plt.plot(data2)\n",
    "plt.plot(exog2)\n"
   ]
  },
  {
   "cell_type": "code",
   "execution_count": null,
   "metadata": {},
   "outputs": [],
   "source": [
    "# VAR example\n",
    "from statsmodels.tsa.vector_ar.var_model import VAR\n",
    "from random import random\n",
    "# contrived dataset with dependency\n",
    "data = list()\n",
    "for i in range(100):\n",
    "    v1 = i + random()\n",
    "    v2 = v1 + random()\n",
    "    row = [v1, v2]\n",
    "    data.append(row)\n",
    "# fit model\n",
    "model = VAR(data)\n",
    "model_fit = model.fit()\n",
    "# make prediction\n",
    "yhat = model_fit.forecast(model_fit.y, steps=1)\n",
    "print(yhat)\n",
    "plt.plot(data)"
   ]
  },
  {
   "cell_type": "code",
   "execution_count": null,
   "metadata": {},
   "outputs": [],
   "source": [
    "# VARMA example\n",
    "from statsmodels.tsa.statespace.varmax import VARMAX\n",
    "from random import random\n",
    "# contrived dataset with dependency\n",
    "data = list()\n",
    "for i in range(100):\n",
    "    v1 = random()\n",
    "    v2 = v1 + random()\n",
    "    row = [v1, v2]\n",
    "    data.append(row)\n",
    "# fit model\n",
    "model = VARMAX(data, order=(1, 1))\n",
    "model_fit = model.fit(disp=False)\n",
    "# make prediction\n",
    "yhat = model_fit.forecast()\n",
    "print(yhat)\n",
    "plt.plot(data)"
   ]
  },
  {
   "cell_type": "code",
   "execution_count": null,
   "metadata": {},
   "outputs": [],
   "source": [
    "# VARMAX example\n",
    "from statsmodels.tsa.statespace.varmax import VARMAX\n",
    "from random import random\n",
    "# contrived dataset with dependency\n",
    "data = list()\n",
    "for i in range(100):\n",
    "    v1 = random()\n",
    "    v2 = v1 + random()\n",
    "    row = [v1, v2]\n",
    "    data.append(row)\n",
    "data_exog = [x + random() for x in range(100)]\n",
    "# fit model\n",
    "model = VARMAX(data, exog=data_exog, order=(1, 1))\n",
    "model_fit = model.fit(disp=False)\n",
    "# make prediction\n",
    "data_exog2 = [[100]]\n",
    "yhat = model_fit.forecast(exog=data_exog2)\n",
    "print(yhat)\n",
    "plt.plot(data)\n",
    "plt.plot(data_exog)"
   ]
  },
  {
   "cell_type": "code",
   "execution_count": null,
   "metadata": {},
   "outputs": [],
   "source": [
    "# SES example\n",
    "from statsmodels.tsa.holtwinters import SimpleExpSmoothing\n",
    "from random import random\n",
    "# contrived dataset\n",
    "data = [x + random() for x in range(1, 100)]\n",
    "# fit model\n",
    "model = SimpleExpSmoothing(data)\n",
    "model_fit = model.fit()\n",
    "# make prediction\n",
    "yhat = model_fit.predict(len(data), len(data))\n",
    "print(yhat)\n",
    "plt.plot(data)"
   ]
  },
  {
   "cell_type": "code",
   "execution_count": null,
   "metadata": {},
   "outputs": [],
   "source": [
    "# HWES example\n",
    "from statsmodels.tsa.holtwinters import ExponentialSmoothing\n",
    "from random import random\n",
    "# contrived dataset\n",
    "data = [x + random() for x in range(1, 100)]\n",
    "# fit model\n",
    "model = ExponentialSmoothing(data)\n",
    "model_fit = model.fit()\n",
    "# make prediction\n",
    "yhat = model_fit.predict(len(data), len(data))\n",
    "print(yhat)\n",
    "plt.plot(data)"
   ]
  },
  {
   "cell_type": "code",
   "execution_count": null,
   "metadata": {},
   "outputs": [],
   "source": [
    "# example of ARCH model\n",
    "from random import gauss\n",
    "from random import seed\n",
    "from matplotlib import pyplot\n",
    "\n",
    "from arch import arch_model\n",
    "# seed pseudorandom number generator\n",
    "seed(1)\n",
    "# create dataset\n",
    "data = [gauss(0, i*0.01) for i in range(0,100)]\n",
    "# split into train/test\n",
    "n_test = 10\n",
    "train, test = data[:-n_test], data[-n_test:]\n",
    "# define model\n",
    "model = arch_model(train, mean='Zero', vol='ARCH', p=15)\n",
    "# fit model\n",
    "model_fit = model.fit()\n",
    "# forecast the test set\n",
    "yhat = model_fit.forecast(horizon=n_test)\n",
    "# plot the actual variance\n",
    "var = [i*0.01 for i in range(0,100)]\n",
    "pyplot.plot(var[-n_test:])\n",
    "# plot forecast variance\n",
    "pyplot.plot(yhat.variance.values[-1, :])\n",
    "pyplot.show()"
   ]
  },
  {
   "cell_type": "code",
   "execution_count": null,
   "metadata": {},
   "outputs": [],
   "source": [
    "# Simulate ARCH(1) series\n",
    "# Var(yt) = a_0 + a_1*y{t-1}**2\n",
    "# if a_1 is between 0 and 1 then yt is white noise\n",
    "\n",
    "np.random.seed(13)\n",
    "\n",
    "a0 = 2\n",
    "a1 = .5\n",
    "\n",
    "y = w = np.random.normal(size=1000)\n",
    "Y = np.empty_like(y)\n",
    "\n",
    "for t in range(len(y)):\n",
    "    y[t] = w[t] * np.sqrt((a0 + a1*y[t-1]**2))\n",
    "\n",
    "# simulated ARCH(1) series, looks like white noise\n",
    "plt.plot(y)"
   ]
  },
  {
   "cell_type": "code",
   "execution_count": null,
   "metadata": {},
   "outputs": [],
   "source": [
    "def _get_best_model(TS):\n",
    "    best_aic = np.inf \n",
    "    best_order = None\n",
    "    best_mdl = None\n",
    "    pq_rng = range(5) # [0,1,2,3,4]\n",
    "    d_rng = range(2) # [0,1]\n",
    "    \n",
    "    for i in pq_rng:\n",
    "        for d in d_rng:\n",
    "            for j in pq_rng:\n",
    "                try:\n",
    "                    tmp_mdl = ARIMA(TS, order=(i,d,j)).fit(\n",
    "                        method='mle', trend='nc'\n",
    "                    )\n",
    "                    tmp_aic = tmp_mdl.aic\n",
    "                    if tmp_aic < best_aic:\n",
    "                        best_aic = tmp_aic\n",
    "                        best_order = (i, d, j)\n",
    "                        best_mdl = tmp_mdl\n",
    "                        \n",
    "                except: continue\n",
    "    print('aic: {:6.2f} | order: {}'.format(best_aic, best_order))                    \n",
    "    return best_aic, best_order, best_mdl\n",
    "TS = y\n",
    "res_tup = _get_best_model(TS)"
   ]
  },
  {
   "cell_type": "code",
   "execution_count": null,
   "metadata": {},
   "outputs": [],
   "source": [
    "order = res_tup[1]\n",
    "model = res_tup[2]\n",
    "print('order', order)\n",
    "print('model', model)"
   ]
  },
  {
   "cell_type": "code",
   "execution_count": null,
   "metadata": {},
   "outputs": [],
   "source": []
  },
  {
   "cell_type": "code",
   "execution_count": null,
   "metadata": {},
   "outputs": [],
   "source": [
    "sns.tsplot(model.resid**2)\n",
    "sm.graphics.tsa.plot_acf(model.resid**2, lags=40)\n",
    "sm.graphics.tsa.plot_pacf(model.resid**2, lags=40)\n",
    "plt.show()"
   ]
  },
  {
   "cell_type": "code",
   "execution_count": null,
   "metadata": {},
   "outputs": [],
   "source": [
    "p_ = order[0]\n",
    "o_ = order[1]\n",
    "q_ = order[2]\n",
    "\n",
    "am = arch_model(model.resid, p=p_, o=o_, q=q_, dist='StudentsT')\n",
    "res = am.fit(update_freq=5, disp='off')\n",
    "print(res.summary())"
   ]
  },
  {
   "cell_type": "code",
   "execution_count": null,
   "metadata": {},
   "outputs": [],
   "source": [
    "sns.tsplot(res.resid)\n",
    "sm.graphics.tsa.plot_acf(res.resid, lags=40)\n",
    "sm.graphics.tsa.plot_pacf(res.resid, lags=40)\n",
    "plt.show()"
   ]
  },
  {
   "cell_type": "code",
   "execution_count": null,
   "metadata": {},
   "outputs": [],
   "source": [
    "sns.tsplot(res.resid**2)\n",
    "sm.graphics.tsa.plot_acf(res.resid**2, lags=40)\n",
    "sm.graphics.tsa.plot_pacf(res.resid**2, lags=40)\n",
    "plt.show()"
   ]
  },
  {
   "cell_type": "code",
   "execution_count": null,
   "metadata": {},
   "outputs": [],
   "source": [
    "windowLength = 252\n",
    "foreLength = len(y) - windowLength\n",
    "signal = 0*y[-foreLength:]\n",
    "#print('foreLength', foreLength)\n",
    "#print('signal', signal)"
   ]
  },
  {
   "cell_type": "code",
   "execution_count": null,
   "metadata": {
    "scrolled": true
   },
   "outputs": [],
   "source": [
    "for d in range(foreLength):\n",
    "    \n",
    "    # create a rolling window by selecting \n",
    "    # values between d+1 and d+T of S&P500 returns\n",
    "    \n",
    "    TS = y[(1+d):(windowLength+d)] \n",
    "    \n",
    "    # Find the best ARIMA fit \n",
    "    # set d = 0 since we've already taken log return of the series\n",
    "    res_tup = _get_best_model(TS)\n",
    "    order = res_tup[1]\n",
    "    model = res_tup[2]\n",
    "    \n",
    "    #now that we have our ARIMA fit, we feed this to GARCH model\n",
    "    p_ = order[0]\n",
    "    o_ = order[1]\n",
    "    q_ = order[2]\n",
    "    print('p_', p_, 'o_', o_, 'q_', q_)\n",
    "    \n",
    "    if (p_ == 0) & (o_ == 0):\n",
    "        p_ = 1\n",
    "    \n",
    "    am = arch_model(model.resid, p=p_, o=o_, q=q_, dist='StudentsT')\n",
    "    res = am.fit(update_freq=5, disp='off')\n",
    "    \n",
    "    # Generate a forecast of next day return using our fitted model\n",
    "    out = res.forecast(horizon=1, start=None, align='origin')\n",
    "\n",
    "    #Set trading signal equal to the sign of forecasted return\n",
    "    # Buy if we expect positive returns, sell if negative\n",
    "      \n",
    "    signal[d] = np.sign(out.mean['h.1'].iloc[-1])"
   ]
  },
  {
   "cell_type": "code",
   "execution_count": null,
   "metadata": {},
   "outputs": [],
   "source": [
    "returns = pd.DataFrame(index = np.arange(len(signal)),\n",
    "                       columns=['Buy and Hold', 'Strategy'])\n",
    "returns['Buy and Hold'] = y[-foreLength:]\n",
    "returns['Strategy'] = signal['SPX']*returns['Buy and Hold']\n",
    "eqCurves = pd.DataFrame(index = np.arange(len(signal)), \n",
    "                       columns=['Buy and Hold', 'Strategy'])\n",
    "eqCurves['Buy and Hold']=returns['Buy and Hold'].cumsum()+1\n",
    "eqCurves['Strategy'] = returns['Strategy'].cumsum()+1\n",
    "eqCurves['Strategy'].plot(figsize=(10,8))\n",
    "eqCurves['Buy and Hold'].plot()\n",
    "plt.legend()\n",
    "plt.show()"
   ]
  },
  {
   "cell_type": "code",
   "execution_count": null,
   "metadata": {},
   "outputs": [],
   "source": []
  }
 ],
 "metadata": {
  "kernelspec": {
   "display_name": "Python 3",
   "language": "python",
   "name": "python3"
  },
  "language_info": {
   "codemirror_mode": {
    "name": "ipython",
    "version": 3
   },
   "file_extension": ".py",
   "mimetype": "text/x-python",
   "name": "python",
   "nbconvert_exporter": "python",
   "pygments_lexer": "ipython3",
   "version": "3.8.5"
  }
 },
 "nbformat": 4,
 "nbformat_minor": 2
}
